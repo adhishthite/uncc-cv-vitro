{
 "cells": [
  {
   "cell_type": "code",
   "execution_count": 1,
   "metadata": {
    "colab": {
     "base_uri": "https://localhost:8080/",
     "height": 71
    },
    "colab_type": "code",
    "id": "lCBgIp1BfSxh",
    "outputId": "26b9b411-226c-43f9-8f14-b76e8a698d1b"
   },
   "outputs": [
    {
     "name": "stderr",
     "output_type": "stream",
     "text": [
      "COMET INFO: Experiment is live on comet.ml https://www.comet.ml/pratikkulkarni228/general/fd2fac4ec40c48f99b1f28ee07d0b523\n",
      "\n"
     ]
    }
   ],
   "source": [
    "# import comet_ml in the top of your file\n",
    "from comet_ml import Experiment\n",
    "\n",
    "# Add the following code anywhere in your machine learning file\n",
    "experiment = Experiment(api_key=\"tC4A7YA778cHBZYNZqwsXDpRx\",\n",
    "                        project_name=\"general\", workspace=\"pratikkulkarni228\")\n"
   ]
  },
  {
   "cell_type": "code",
   "execution_count": 0,
   "metadata": {
    "colab": {},
    "colab_type": "code",
    "id": "3i7TzdV8VVEq"
   },
   "outputs": [],
   "source": [
    "#!pip install comet_ml"
   ]
  },
  {
   "cell_type": "code",
   "execution_count": 3,
   "metadata": {
    "colab": {
     "base_uri": "https://localhost:8080/",
     "height": 34
    },
    "colab_type": "code",
    "id": "HV-2XV4vzcDE",
    "outputId": "c0999fe9-39c7-4078-f9f3-5fedf2157215"
   },
   "outputs": [
    {
     "name": "stderr",
     "output_type": "stream",
     "text": [
      "Using TensorFlow backend.\n"
     ]
    }
   ],
   "source": [
    "\n",
    "from keras.preprocessing.image import ImageDataGenerator\n",
    "from keras.models import Sequential\n",
    "from keras.layers import Conv2D, MaxPooling2D, AveragePooling2D\n",
    "from keras.layers import Activation, Dropout, Flatten, Dense\n",
    "from keras import backend as K\n",
    "from keras.optimizers import SGD #Stochastic Gradient Descent Optimizer\n",
    "\n",
    "import numpy as np\n",
    "import pickle\n",
    "\n"
   ]
  },
  {
   "cell_type": "code",
   "execution_count": 0,
   "metadata": {
    "colab": {},
    "colab_type": "code",
    "id": "cCbLV72IQGJO"
   },
   "outputs": [],
   "source": [
    "# pfile = open('msft_8515.pickle','rb')\n",
    "# temp = pickle.load(pfile)\n",
    "\n",
    "# len(temp['train_X'])"
   ]
  },
  {
   "cell_type": "code",
   "execution_count": 0,
   "metadata": {
    "colab": {},
    "colab_type": "code",
    "id": "a2Dzgpk6fSxt"
   },
   "outputs": [],
   "source": [
    "# dimensions of our images.\n",
    "img_width, img_height =  598,434\n",
    "\n",
    "data_file = open('msft_8515.pickle','rb')\n",
    "dataset=pickle.load(data_file)\n",
    "\n",
    "train_X = dataset['train_X']\n",
    "train_y = dataset['train_y']\n",
    "\n",
    "test_X = dataset['test_X']\n",
    "test_y = dataset['test_y']\n",
    "\n",
    "\n",
    "#Pre processing data\n",
    "train_X = np.reshape(train_X,newshape=(train_X.shape[0],1,train_X.shape[1],train_X.shape[2]))\n",
    "test_X = np.reshape(test_X,newshape=(test_X.shape[0],1,test_X.shape[1],test_X.shape[2]))\n",
    "\n",
    "#Normalize\n",
    "train_X = train_X.astype('float32')\n",
    "test_X = test_X.astype('float32')\n",
    "train_X /= 255\n",
    "test_X /= 255\n"
   ]
  },
  {
   "cell_type": "code",
   "execution_count": 0,
   "metadata": {
    "colab": {},
    "colab_type": "code",
    "id": "o6MGasXifSx8"
   },
   "outputs": [],
   "source": [
    "model = Sequential()\n",
    "model.add(Conv2D(32,(3,3),input_shape=(1,598,434),data_format='channels_first'))\n",
    "model.add(Activation('relu'))\n",
    "\n",
    "model.add(MaxPooling2D(pool_size=(2,2)))\n",
    "\n",
    "model.add(Conv2D(64, (3, 3)))\n",
    "model.add(Activation('relu'))\n",
    "\n",
    "model.add(MaxPooling2D(pool_size=(2,2)))\n",
    "\n",
    "model.add(Flatten())\n",
    "\n",
    "model.add(Dense(64))\n",
    "model.add(Activation('relu'))\n",
    "\n",
    "model.add(Dropout(0.5))\n",
    "\n",
    "model.add(Dense(3)) #3 classes\n",
    "model.add(Activation('softmax'))\n",
    "\n",
    "\n",
    "sgd = SGD(lr=0.001, decay=1e-6, momentum=0.9, nesterov=True)\n",
    "model.compile(loss='categorical_crossentropy',\n",
    "              optimizer=sgd,\n",
    "              metrics=['accuracy'])\n"
   ]
  },
  {
   "cell_type": "code",
   "execution_count": 7,
   "metadata": {
    "colab": {
     "base_uri": "https://localhost:8080/",
     "height": 561
    },
    "colab_type": "code",
    "id": "CtA0RQSJjLYg",
    "outputId": "e26f8407-c495-41b9-efdd-61ef4553669f"
   },
   "outputs": [
    {
     "name": "stdout",
     "output_type": "stream",
     "text": [
      "_________________________________________________________________\n",
      "Layer (type)                 Output Shape              Param #   \n",
      "=================================================================\n",
      "conv2d_1 (Conv2D)            (None, 32, 596, 432)      320       \n",
      "_________________________________________________________________\n",
      "activation_1 (Activation)    (None, 32, 596, 432)      0         \n",
      "_________________________________________________________________\n",
      "max_pooling2d_1 (MaxPooling2 (None, 16, 298, 432)      0         \n",
      "_________________________________________________________________\n",
      "conv2d_2 (Conv2D)            (None, 14, 296, 64)       248896    \n",
      "_________________________________________________________________\n",
      "activation_2 (Activation)    (None, 14, 296, 64)       0         \n",
      "_________________________________________________________________\n",
      "max_pooling2d_2 (MaxPooling2 (None, 7, 148, 64)        0         \n",
      "_________________________________________________________________\n",
      "flatten_1 (Flatten)          (None, 66304)             0         \n",
      "_________________________________________________________________\n",
      "dense_1 (Dense)              (None, 64)                4243520   \n",
      "_________________________________________________________________\n",
      "activation_3 (Activation)    (None, 64)                0         \n",
      "_________________________________________________________________\n",
      "dropout_1 (Dropout)          (None, 64)                0         \n",
      "_________________________________________________________________\n",
      "dense_2 (Dense)              (None, 3)                 195       \n",
      "_________________________________________________________________\n",
      "activation_4 (Activation)    (None, 3)                 0         \n",
      "=================================================================\n",
      "Total params: 4,492,931\n",
      "Trainable params: 4,492,931\n",
      "Non-trainable params: 0\n",
      "_________________________________________________________________\n",
      "None\n"
     ]
    }
   ],
   "source": [
    "print(model.summary())"
   ]
  },
  {
   "cell_type": "code",
   "execution_count": 8,
   "metadata": {
    "colab": {
     "base_uri": "https://localhost:8080/",
     "height": 1734
    },
    "colab_type": "code",
    "id": "uu_bJXUjfSyM",
    "outputId": "fa66a483-9c45-4995-d24b-11885ee0ea54"
   },
   "outputs": [
    {
     "name": "stdout",
     "output_type": "stream",
     "text": [
      "Epoch 1/50\n",
      "598/598 [==============================] - 10s 17ms/step - loss: 1.1162 - acc: 0.3512\n",
      "Epoch 2/50\n",
      "598/598 [==============================] - 5s 9ms/step - loss: 1.0877 - acc: 0.4097\n",
      "Epoch 3/50\n",
      "598/598 [==============================] - 5s 9ms/step - loss: 1.0823 - acc: 0.4147\n",
      "Epoch 4/50\n",
      "598/598 [==============================] - 5s 9ms/step - loss: 1.0802 - acc: 0.4181\n",
      "Epoch 5/50\n",
      "598/598 [==============================] - 5s 9ms/step - loss: 1.0720 - acc: 0.4130\n",
      "Epoch 6/50\n",
      "598/598 [==============================] - 5s 9ms/step - loss: 1.0574 - acc: 0.4498\n",
      "Epoch 7/50\n",
      "598/598 [==============================] - 5s 9ms/step - loss: 1.0461 - acc: 0.4532\n",
      "Epoch 8/50\n",
      "598/598 [==============================] - 5s 9ms/step - loss: 1.0319 - acc: 0.4816\n",
      "Epoch 9/50\n",
      "598/598 [==============================] - 5s 9ms/step - loss: 0.9887 - acc: 0.5301\n",
      "Epoch 10/50\n",
      "598/598 [==============================] - 5s 9ms/step - loss: 0.9381 - acc: 0.5602\n",
      "Epoch 11/50\n",
      "598/598 [==============================] - 5s 9ms/step - loss: 0.8968 - acc: 0.5836\n",
      "Epoch 12/50\n",
      "598/598 [==============================] - 5s 9ms/step - loss: 0.8494 - acc: 0.6388\n",
      "Epoch 13/50\n",
      "598/598 [==============================] - 5s 9ms/step - loss: 0.7609 - acc: 0.6823\n",
      "Epoch 14/50\n",
      "598/598 [==============================] - 5s 9ms/step - loss: 0.6986 - acc: 0.6957\n",
      "Epoch 15/50\n",
      "598/598 [==============================] - 5s 9ms/step - loss: 0.6540 - acc: 0.7207\n",
      "Epoch 16/50\n",
      "598/598 [==============================] - 5s 9ms/step - loss: 0.5786 - acc: 0.7475\n",
      "Epoch 17/50\n",
      "598/598 [==============================] - 5s 9ms/step - loss: 0.5479 - acc: 0.7525\n",
      "Epoch 18/50\n",
      "598/598 [==============================] - 5s 9ms/step - loss: 0.4880 - acc: 0.7943\n",
      "Epoch 19/50\n",
      "598/598 [==============================] - 5s 9ms/step - loss: 0.4305 - acc: 0.8077\n",
      "Epoch 20/50\n",
      "598/598 [==============================] - 5s 9ms/step - loss: 0.3955 - acc: 0.8211\n",
      "Epoch 21/50\n",
      "598/598 [==============================] - 5s 9ms/step - loss: 0.4017 - acc: 0.8328\n",
      "Epoch 22/50\n",
      "598/598 [==============================] - 5s 9ms/step - loss: 0.3396 - acc: 0.8629\n",
      "Epoch 23/50\n",
      "598/598 [==============================] - 5s 9ms/step - loss: 0.2658 - acc: 0.8980\n",
      "Epoch 24/50\n",
      "598/598 [==============================] - 5s 9ms/step - loss: 0.2654 - acc: 0.8997\n",
      "Epoch 25/50\n",
      "598/598 [==============================] - 5s 9ms/step - loss: 0.2199 - acc: 0.9331\n",
      "Epoch 26/50\n",
      "598/598 [==============================] - 5s 9ms/step - loss: 0.2328 - acc: 0.9097\n",
      "Epoch 27/50\n",
      "598/598 [==============================] - 5s 9ms/step - loss: 0.1982 - acc: 0.9264\n",
      "Epoch 28/50\n",
      "598/598 [==============================] - 5s 9ms/step - loss: 0.1758 - acc: 0.9365\n",
      "Epoch 29/50\n",
      "598/598 [==============================] - 5s 9ms/step - loss: 0.1480 - acc: 0.9482\n",
      "Epoch 30/50\n",
      "598/598 [==============================] - 5s 9ms/step - loss: 0.1545 - acc: 0.9482\n",
      "Epoch 31/50\n",
      "598/598 [==============================] - 5s 9ms/step - loss: 0.2429 - acc: 0.9047\n",
      "Epoch 32/50\n",
      "598/598 [==============================] - 5s 9ms/step - loss: 0.1489 - acc: 0.9448\n",
      "Epoch 33/50\n",
      "598/598 [==============================] - 5s 9ms/step - loss: 0.1455 - acc: 0.9548\n",
      "Epoch 34/50\n",
      "598/598 [==============================] - 5s 9ms/step - loss: 0.1212 - acc: 0.9615\n",
      "Epoch 35/50\n",
      "598/598 [==============================] - 5s 9ms/step - loss: 0.1109 - acc: 0.9716\n",
      "Epoch 36/50\n",
      "598/598 [==============================] - 5s 9ms/step - loss: 0.1000 - acc: 0.9649\n",
      "Epoch 37/50\n",
      "598/598 [==============================] - 5s 9ms/step - loss: 0.1115 - acc: 0.9532\n",
      "Epoch 38/50\n",
      "598/598 [==============================] - 5s 9ms/step - loss: 0.0977 - acc: 0.9632\n",
      "Epoch 39/50\n",
      "598/598 [==============================] - 5s 9ms/step - loss: 0.0982 - acc: 0.9615\n",
      "Epoch 40/50\n",
      "598/598 [==============================] - 5s 9ms/step - loss: 0.0733 - acc: 0.9833\n",
      "Epoch 41/50\n",
      "598/598 [==============================] - 5s 9ms/step - loss: 0.0608 - acc: 0.9900\n",
      "Epoch 42/50\n",
      "598/598 [==============================] - 5s 9ms/step - loss: 0.0880 - acc: 0.9649\n",
      "Epoch 43/50\n",
      "598/598 [==============================] - 5s 9ms/step - loss: 0.0804 - acc: 0.9749\n",
      "Epoch 44/50\n",
      "598/598 [==============================] - 5s 9ms/step - loss: 0.0689 - acc: 0.9783\n",
      "Epoch 45/50\n",
      "598/598 [==============================] - 5s 9ms/step - loss: 0.0681 - acc: 0.9766\n",
      "Epoch 46/50\n",
      "598/598 [==============================] - 5s 9ms/step - loss: 0.0647 - acc: 0.9716\n",
      "Epoch 47/50\n",
      "598/598 [==============================] - 5s 9ms/step - loss: 0.0554 - acc: 0.9883\n",
      "Epoch 48/50\n",
      "598/598 [==============================] - 5s 9ms/step - loss: 0.0646 - acc: 0.9849\n",
      "Epoch 49/50\n",
      "598/598 [==============================] - 5s 9ms/step - loss: 0.0655 - acc: 0.9732\n",
      "Epoch 50/50\n",
      "598/598 [==============================] - 5s 9ms/step - loss: 0.0576 - acc: 0.9833\n"
     ]
    },
    {
     "data": {
      "text/plain": [
       "<keras.callbacks.History at 0x7f7f6fb6ed68>"
      ]
     },
     "execution_count": 8,
     "metadata": {
      "tags": []
     },
     "output_type": "execute_result"
    }
   ],
   "source": [
    "model.fit(train_X,train_y,epochs=50,batch_size=32,verbose=1)"
   ]
  },
  {
   "cell_type": "markdown",
   "metadata": {
    "colab_type": "text",
    "id": "W35ynriifaYZ"
   },
   "source": []
  },
  {
   "cell_type": "code",
   "execution_count": 0,
   "metadata": {
    "colab": {},
    "colab_type": "code",
    "id": "wPqnQaVTfbdj"
   },
   "outputs": [],
   "source": [
    "model.save_weights('98_acc_8515split.h5')  # always save your weights after training or during training\n",
    "\n"
   ]
  },
  {
   "cell_type": "code",
   "execution_count": 0,
   "metadata": {
    "colab": {},
    "colab_type": "code",
    "id": "z9K5qOqv8Pvr"
   },
   "outputs": [],
   "source": [
    "score = model.predict(test_X)"
   ]
  },
  {
   "cell_type": "code",
   "execution_count": 11,
   "metadata": {
    "colab": {
     "base_uri": "https://localhost:8080/",
     "height": 1768
    },
    "colab_type": "code",
    "id": "xSJ6WNx3fewm",
    "outputId": "c7493d34-facb-4374-c545-80ff963457ed"
   },
   "outputs": [
    {
     "name": "stdout",
     "output_type": "stream",
     "text": [
      "[[9.43650842e-01 8.88768467e-04 5.54603636e-02]\n",
      " [9.96874094e-01 1.09372009e-03 2.03213305e-03]\n",
      " [9.40294921e-01 5.94727844e-02 2.32247388e-04]\n",
      " [9.93843079e-01 1.89051416e-03 4.26638965e-03]\n",
      " [9.96165156e-01 3.18721868e-03 6.47646259e-04]\n",
      " [9.99480188e-01 1.01451493e-04 4.18395473e-04]\n",
      " [9.75302041e-01 2.82269344e-03 2.18752138e-02]\n",
      " [9.96904790e-01 2.50712642e-03 5.88004128e-04]\n",
      " [9.98823464e-01 1.63643301e-04 1.01288478e-03]\n",
      " [9.99551237e-01 1.07079009e-04 3.41616833e-04]\n",
      " [9.70067382e-01 2.94111408e-02 5.21546055e-04]\n",
      " [9.98581648e-01 4.45793092e-04 9.72589769e-04]\n",
      " [9.96057153e-01 3.76322470e-03 1.79606184e-04]\n",
      " [9.99461114e-01 1.04976411e-04 4.33891924e-04]\n",
      " [9.99584258e-01 8.88535724e-05 3.26855137e-04]\n",
      " [9.94378984e-01 6.84949220e-04 4.93609020e-03]\n",
      " [1.11777976e-01 8.88199568e-01 2.24169289e-05]\n",
      " [9.95197713e-01 1.31729140e-03 3.48489895e-03]\n",
      " [9.95230973e-01 1.62619201e-03 3.14281974e-03]\n",
      " [9.69832540e-01 2.34513311e-03 2.78223995e-02]\n",
      " [9.79684591e-01 2.27405922e-03 1.80413723e-02]\n",
      " [9.68383431e-01 2.09179684e-03 2.95247585e-02]\n",
      " [9.97700989e-01 2.32495528e-04 2.06647511e-03]\n",
      " [4.24249172e-01 5.75127721e-01 6.23103813e-04]\n",
      " [9.68326330e-01 3.09265237e-02 7.47144222e-04]\n",
      " [9.96426284e-01 5.66714385e-04 3.00703873e-03]\n",
      " [9.96111453e-01 2.53595691e-03 1.35260110e-03]\n",
      " [9.75347161e-01 2.81845313e-03 2.18343977e-02]\n",
      " [9.83615458e-01 1.63391028e-02 4.55207701e-05]\n",
      " [9.97282863e-01 1.14945660e-03 1.56764698e-03]\n",
      " [9.95996237e-01 2.82957358e-03 1.17416470e-03]\n",
      " [9.99027014e-01 1.63570221e-04 8.09500809e-04]\n",
      " [9.96143699e-01 1.06563198e-03 2.79055838e-03]\n",
      " [9.62862551e-01 3.31548713e-02 3.98262590e-03]\n",
      " [9.97542262e-01 1.74223061e-03 7.15550268e-04]\n",
      " [9.99776542e-01 5.04859527e-05 1.72893706e-04]\n",
      " [7.00983346e-01 2.96520889e-01 2.49576708e-03]\n",
      " [9.96137083e-01 6.00565574e-04 3.26242507e-03]\n",
      " [9.96647179e-01 1.12506212e-03 2.22774944e-03]\n",
      " [9.75316465e-01 2.82204081e-03 2.18614787e-02]\n",
      " [5.45784365e-04 9.99454200e-01 4.40147607e-09]\n",
      " [7.77423498e-04 9.99222159e-01 3.21220057e-07]\n",
      " [2.35368474e-03 9.97646034e-01 2.08703526e-07]\n",
      " [2.72200443e-03 9.97277796e-01 2.73891146e-07]\n",
      " [4.59358091e-07 9.99999523e-01 3.58507630e-13]\n",
      " [2.35228008e-03 9.97647583e-01 1.03688315e-07]\n",
      " [4.06421350e-06 9.99995947e-01 2.68791073e-10]\n",
      " [1.92868652e-06 9.99998093e-01 3.51538632e-10]\n",
      " [2.53341044e-04 9.99746501e-01 1.04309365e-07]\n",
      " [9.30155602e-06 9.99990702e-01 1.31170197e-09]\n",
      " [1.80584881e-02 9.81938720e-01 2.77563299e-06]\n",
      " [3.48461872e-05 9.99965191e-01 3.03018471e-10]\n",
      " [4.61780641e-04 9.99537945e-01 3.45900759e-07]\n",
      " [5.87153181e-06 9.99994159e-01 2.87772106e-12]\n",
      " [3.73419630e-03 9.96265471e-01 4.03876840e-07]\n",
      " [1.11213198e-03 9.98887837e-01 1.06439324e-09]\n",
      " [2.17074994e-05 9.99978304e-01 8.53229487e-09]\n",
      " [1.55883477e-04 9.99844074e-01 4.55554954e-08]\n",
      " [1.69396051e-04 9.99830604e-01 5.40346505e-08]\n",
      " [9.09021776e-03 9.90909517e-01 2.55054346e-07]\n",
      " [3.96857446e-04 9.99602973e-01 2.06924966e-07]\n",
      " [2.21191340e-06 9.99997735e-01 3.03726211e-10]\n",
      " [1.72983315e-02 9.82695699e-01 5.96544214e-06]\n",
      " [3.59501209e-05 9.99963999e-01 5.43325651e-09]\n",
      " [8.01109200e-05 9.99919891e-01 1.04556692e-08]\n",
      " [1.03743361e-04 9.99896288e-01 8.78131678e-10]\n",
      " [8.95514095e-05 9.99910474e-01 2.19047109e-08]\n",
      " [1.94694832e-04 9.99805272e-01 1.51053969e-09]\n",
      " [1.15021830e-02 9.88494933e-01 2.93551875e-06]\n",
      " [3.67462449e-03 9.96322155e-01 3.25223186e-06]\n",
      " [5.44415961e-04 9.99455392e-01 2.89513082e-07]\n",
      " [2.10149415e-06 9.99997854e-01 4.00142447e-10]\n",
      " [1.91775598e-05 9.99980807e-01 7.27289784e-09]\n",
      " [6.61130995e-04 9.99338806e-01 2.32202542e-08]\n",
      " [1.12735818e-03 9.98871624e-01 9.42606960e-07]\n",
      " [1.85819389e-03 9.98140216e-01 1.51060567e-06]\n",
      " [2.88247466e-05 9.99971151e-01 5.63753176e-11]\n",
      " [1.23122099e-05 9.99987721e-01 6.81632750e-10]\n",
      " [1.13174168e-03 9.98867273e-01 9.51856578e-07]\n",
      " [3.56183271e-04 9.99643683e-01 1.73058339e-07]\n",
      " [4.50153631e-04 9.99549568e-01 2.26183673e-07]\n",
      " [2.79935630e-04 9.99719918e-01 1.26241076e-07]\n",
      " [3.09700881e-05 9.99969006e-01 2.66551642e-11]\n",
      " [1.43329299e-03 9.98566568e-01 1.22934338e-07]\n",
      " [1.02880156e-04 9.99897122e-01 8.62663496e-10]\n",
      " [1.12794478e-04 9.99887228e-01 1.59164930e-08]\n",
      " [1.12519647e-05 9.99988794e-01 6.26770302e-10]\n",
      " [2.97383784e-04 9.99702632e-01 2.38663356e-09]\n",
      " [1.14872673e-04 9.99885082e-01 1.00083453e-09]\n",
      " [2.06668221e-04 9.99793231e-01 8.04368554e-08]\n",
      " [4.84250995e-05 7.27998506e-09 9.99951601e-01]\n",
      " [2.62951595e-04 6.67800180e-08 9.99736965e-01]\n",
      " [1.42788544e-04 4.73312802e-08 9.99857187e-01]\n",
      " [1.86198216e-04 5.46037633e-08 9.99813735e-01]\n",
      " [2.66429070e-05 2.94960678e-09 9.99973297e-01]\n",
      " [2.41033966e-03 1.08446034e-06 9.97588634e-01]\n",
      " [1.95634439e-05 1.67566683e-09 9.99980450e-01]\n",
      " [1.20817836e-04 1.50200421e-08 9.99879122e-01]\n",
      " [3.62146981e-02 7.96824534e-05 9.63705599e-01]\n",
      " [1.14988623e-04 4.35945182e-08 9.99884963e-01]\n",
      " [8.39837920e-03 7.08908283e-06 9.91594493e-01]\n",
      " [1.51379654e-05 1.82599746e-09 9.99984860e-01]\n",
      " [7.72597778e-05 7.62140129e-09 9.99922752e-01]]\n"
     ]
    }
   ],
   "source": [
    "print(score)"
   ]
  },
  {
   "cell_type": "code",
   "execution_count": 0,
   "metadata": {
    "colab": {},
    "colab_type": "code",
    "id": "6AmcKpMOf8tA"
   },
   "outputs": [],
   "source": [
    "y_pred = score.argmax(axis=-1)"
   ]
  },
  {
   "cell_type": "code",
   "execution_count": 0,
   "metadata": {
    "colab": {},
    "colab_type": "code",
    "id": "dt734uyRgP-S"
   },
   "outputs": [],
   "source": [
    "y_test = test_y.argmax(axis=-1)"
   ]
  },
  {
   "cell_type": "code",
   "execution_count": 0,
   "metadata": {
    "colab": {},
    "colab_type": "code",
    "id": "wOj6bc5HydCm"
   },
   "outputs": [],
   "source": [
    "from sklearn.metrics import confusion_matrix"
   ]
  },
  {
   "cell_type": "code",
   "execution_count": 0,
   "metadata": {
    "colab": {},
    "colab_type": "code",
    "id": "gjp-BEv4A1L9"
   },
   "outputs": [],
   "source": [
    "cm = confusion_matrix(y_test, y_pred)\n"
   ]
  },
  {
   "cell_type": "code",
   "execution_count": 23,
   "metadata": {
    "colab": {
     "base_uri": "https://localhost:8080/",
     "height": 68
    },
    "colab_type": "code",
    "id": "FEhKGpESBo6m",
    "outputId": "c68d298d-7748-4580-c2f4-8310a6e6d39e"
   },
   "outputs": [
    {
     "name": "stdout",
     "output_type": "stream",
     "text": [
      "[[38  2  0]\n",
      " [ 0 50  0]\n",
      " [ 0  0 13]]\n"
     ]
    }
   ],
   "source": [
    "print(cm)"
   ]
  },
  {
   "cell_type": "code",
   "execution_count": 0,
   "metadata": {
    "colab": {},
    "colab_type": "code",
    "id": "63N5jc9KBqRJ"
   },
   "outputs": [],
   "source": [
    "import matplotlib.pyplot as plt"
   ]
  },
  {
   "cell_type": "code",
   "execution_count": 0,
   "metadata": {
    "colab": {},
    "colab_type": "code",
    "id": "L4h3yTPLD2ce"
   },
   "outputs": [],
   "source": []
  },
  {
   "cell_type": "code",
   "execution_count": 0,
   "metadata": {
    "colab": {},
    "colab_type": "code",
    "id": "7D4o7jBfEMTq"
   },
   "outputs": [],
   "source": [
    "import itertools\n",
    "def plot_confusion_matrix(cm,test_y, pred_y, class_names, filename):\n",
    "    \"\"\"\n",
    "    This function prints and plots the confusion matrix.\n",
    "    \"\"\"\n",
    "    cmap = plt.cm.Blues\n",
    "    # Compute confusion matrix\n",
    "    cm = cm\n",
    "    np.set_printoptions(precision=2)\n",
    "    # Plot confusion matrix\n",
    "    plt.figure()\n",
    "    plt.grid('off')\n",
    "    plt.imshow(cm, interpolation='nearest', cmap=cmap)\n",
    "    plt.title(\"Confusion Matrix\")\n",
    "    plt.colorbar()\n",
    "    tick_marks = np.arange(len(class_names))\n",
    "    plt.xticks(tick_marks, class_names, rotation=45)\n",
    "    plt.yticks(tick_marks, class_names)\n",
    "    print(cm)\n",
    "    thresh = cm.max() / 2.\n",
    "    for i, j in itertools.product(range(cm.shape[0]), range(cm.shape[1])):\n",
    "        plt.text(j, i, cm[i, j],\n",
    "                 horizontalalignment=\"center\",\n",
    "                 color=\"white\" if cm[i, j] > thresh else \"black\")\n",
    "    plt.tight_layout()\n",
    "    plt.ylabel('True label')\n",
    "    plt.xlabel('Predicted label')\n",
    "    plt.savefig(filename + \".png\")\n"
   ]
  },
  {
   "cell_type": "code",
   "execution_count": 49,
   "metadata": {
    "colab": {
     "base_uri": "https://localhost:8080/",
     "height": 466
    },
    "colab_type": "code",
    "id": "2BWk4ojscRSV",
    "outputId": "fa887e9e-4127-4a24-cb05-841d7937e5e7"
   },
   "outputs": [
    {
     "name": "stdout",
     "output_type": "stream",
     "text": [
      "[[38  2  0]\n",
      " [ 0 50  0]\n",
      " [ 0  0 13]]\n"
     ]
    },
    {
     "data": {
      "image/png": "[encoded data removed]",
      "text/plain": [
       "<matplotlib.figure.Figure at 0x7f7f25b948d0>"
      ]
     },
     "metadata": {
      "tags": []
     },
     "output_type": "display_data"
    }
   ],
   "source": [
    "class_names = [0,1,2]\n",
    "plot_confusion_matrix(cm,y_test, y_pred, class_names, 'test_conf')"
   ]
  },
  {
   "cell_type": "code",
   "execution_count": 0,
   "metadata": {
    "colab": {},
    "colab_type": "code",
    "id": "1G-fhp6EcUzk"
   },
   "outputs": [],
   "source": []
  }
 ],
 "metadata": {
  "accelerator": "GPU",
  "colab": {
   "collapsed_sections": [],
   "name": "Vitro.ipynb",
   "provenance": [],
   "version": "0.3.2"
  },
  "kernelspec": {
   "display_name": "Python 3",
   "language": "python",
   "name": "python3"
  },
  "language_info": {
   "codemirror_mode": {
    "name": "ipython",
    "version": 3
   },
   "file_extension": ".py",
   "mimetype": "text/x-python",
   "name": "python",
   "nbconvert_exporter": "python",
   "pygments_lexer": "ipython3",
   "version": "3.6.5"
  }
 },
 "nbformat": 4,
 "nbformat_minor": 1
}
