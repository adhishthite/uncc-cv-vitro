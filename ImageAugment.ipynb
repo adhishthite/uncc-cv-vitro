{
 "cells": [
  {
   "cell_type": "code",
   "execution_count": 1,
   "metadata": {},
   "outputs": [],
   "source": [
    "import tensorflow.keras as keras\n",
    "import os\n",
    "import pandas as pd\n",
    "from tensorflow.keras.preprocessing.image import ImageDataGenerator,array_to_img,img_to_array,load_img\n",
    "import numpy as np\n",
    "import cv2"
   ]
  },
  {
   "cell_type": "code",
   "execution_count": 2,
   "metadata": {},
   "outputs": [],
   "source": [
    "df = pd.read_csv(\"labels.csv\")"
   ]
  },
  {
   "cell_type": "code",
   "execution_count": 8,
   "metadata": {},
   "outputs": [
    {
     "name": "stdout",
     "output_type": "stream",
     "text": [
      "(4, 598, 434, 1)\n",
      "(21, 598, 434, 1)\n"
     ]
    }
   ],
   "source": [
    "edge_data = []\n",
    "water_data = []\n",
    "\n",
    "for _, row in df.iterrows():\n",
    "    \n",
    "    if row[1] == 1:\n",
    "    \n",
    "        img = img_to_array(load_img(os.getcwd() + '/images_raw/' + row[0], color_mode = \"grayscale\"))\n",
    "        edge_data.append(img)\n",
    "        \n",
    "    if row[1] == 2:\n",
    "        \n",
    "        img = img_to_array(load_img(os.getcwd() + '/images_raw/' + row[0], color_mode = \"grayscale\"))\n",
    "        water_data.append(img)\n",
    "    \n",
    "edge_data = np.asarray(edge_data)\n",
    "water_data = np.asarray(water_data)\n",
    "\n",
    "print(edge_data.shape)\n",
    "print(water_data.shape)"
   ]
  },
  {
   "cell_type": "code",
   "execution_count": 11,
   "metadata": {},
   "outputs": [],
   "source": [
    "datagen = ImageDataGenerator(shear_range=5, horizontal_flip=True, vertical_flip=True)\n",
    "\n",
    "i = 0\n",
    "for batch in datagen.flow(x=edge_data, batch_size=1, save_to_dir='aug/edge', save_prefix='edge', save_format='jpg'):\n",
    "    i += 1\n",
    "    if i > 250:\n",
    "        break  # otherwise the generator would loop indefinitely\n",
    "        \n",
    "i = 0\n",
    "for batch in datagen.flow(x=water_data, batch_size=1, save_to_dir='aug/water', save_prefix='water', save_format='jpg'):\n",
    "    i += 1\n",
    "    if i > 250:\n",
    "        break  # otherwise the generator would loop indefinitely"
   ]
  },
  {
   "cell_type": "code",
   "execution_count": null,
   "metadata": {},
   "outputs": [],
   "source": []
  }
 ],
 "metadata": {
  "kernelspec": {
   "display_name": "Python 3",
   "language": "python",
   "name": "python3"
  },
  "language_info": {
   "codemirror_mode": {
    "name": "ipython",
    "version": 3
   },
   "file_extension": ".py",
   "mimetype": "text/x-python",
   "name": "python",
   "nbconvert_exporter": "python",
   "pygments_lexer": "ipython3",
   "version": "3.5.6"
  }
 },
 "nbformat": 4,
 "nbformat_minor": 2
}
